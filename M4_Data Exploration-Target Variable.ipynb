{
 "cells": [
  {
   "cell_type": "code",
   "execution_count": 1,
   "id": "c6f44a4b",
   "metadata": {},
   "outputs": [],
   "source": [
    "import numpy as np\n",
    "import seaborn as sns\n",
    "import pandas as pd\n",
    "import matplotlib.pyplot as plt\n",
    "Raw_housing_data=pd.read_csv(\"1. Regression - Module - (Housing Prices).csv\")"
   ]
  },
  {
   "cell_type": "code",
   "execution_count": 2,
   "id": "ae8ab827",
   "metadata": {},
   "outputs": [
    {
     "data": {
      "text/plain": [
       "<Axes: xlabel='Sale Price'>"
      ]
     },
     "execution_count": 2,
     "metadata": {},
     "output_type": "execute_result"
    },
    {
     "data": {
      "image/png": "[encoded data removed]",
      "text/plain": [
       "<Figure size 640x480 with 1 Axes>"
      ]
     },
     "metadata": {},
     "output_type": "display_data"
    }
   ],
   "source": [
    "sns.boxplot(x=Raw_housing_data['Sale Price'])"
   ]
  },
  {
   "cell_type": "code",
   "execution_count": 3,
   "id": "c54a8acd",
   "metadata": {},
   "outputs": [
    {
     "data": {
      "text/plain": [
       "count    2.160900e+04\n",
       "mean     5.401984e+05\n",
       "std      3.673890e+05\n",
       "min      7.500000e+04\n",
       "25%      3.219500e+05\n",
       "50%      4.500000e+05\n",
       "75%      6.450000e+05\n",
       "max      7.700000e+06\n",
       "Name: Sale Price, dtype: float64"
      ]
     },
     "execution_count": 3,
     "metadata": {},
     "output_type": "execute_result"
    }
   ],
   "source": [
    "Raw_housing_data['Sale Price'].describe()"
   ]
  },
  {
   "cell_type": "code",
   "execution_count": 4,
   "id": "389d3548",
   "metadata": {},
   "outputs": [],
   "source": [
    "#treatment of outliers using imputing\n",
    "q1=Raw_housing_data['Sale Price'].quantile(0.25)\n",
    "q3=Raw_housing_data['Sale Price'].quantile(0.75)"
   ]
  },
  {
   "cell_type": "code",
   "execution_count": 5,
   "id": "4281187c",
   "metadata": {},
   "outputs": [
    {
     "data": {
      "text/plain": [
       "323050.0"
      ]
     },
     "execution_count": 5,
     "metadata": {},
     "output_type": "execute_result"
    }
   ],
   "source": [
    "iqr=q3-q1\n",
    "iqr"
   ]
  },
  {
   "cell_type": "code",
   "execution_count": 6,
   "id": "462a49ab",
   "metadata": {},
   "outputs": [
    {
     "data": {
      "text/plain": [
       "(1129575.0, -162625.0)"
      ]
     },
     "execution_count": 6,
     "metadata": {},
     "output_type": "execute_result"
    }
   ],
   "source": [
    "upper_limit=q3+1.5*iqr\n",
    "lower_limit=q1-1.5*iqr\n",
    "upper_limit,lower_limit"
   ]
  },
  {
   "cell_type": "code",
   "execution_count": 7,
   "id": "615359c8",
   "metadata": {},
   "outputs": [],
   "source": [
    "def limit_imputer(value):\n",
    "    if value>upper_limit:\n",
    "        return upper_limit\n",
    "    if value<lower_limit:\n",
    "        return lower_limit\n",
    "    else:\n",
    "        return value"
   ]
  },
  {
   "cell_type": "code",
   "execution_count": 8,
   "id": "6f12757e",
   "metadata": {},
   "outputs": [
    {
     "data": {
      "text/plain": [
       "count    2.160900e+04\n",
       "mean     5.116186e+05\n",
       "std      2.500620e+05\n",
       "min      7.500000e+04\n",
       "25%      3.219500e+05\n",
       "50%      4.500000e+05\n",
       "75%      6.450000e+05\n",
       "max      1.129575e+06\n",
       "Name: Sale Price, dtype: float64"
      ]
     },
     "execution_count": 8,
     "metadata": {},
     "output_type": "execute_result"
    }
   ],
   "source": [
    "Raw_housing_data['Sale Price']=Raw_housing_data['Sale Price'].apply(limit_imputer)\n",
    "Raw_housing_data['Sale Price'].describe()"
   ]
  },
  {
   "cell_type": "code",
   "execution_count": 9,
   "id": "049d9e06",
   "metadata": {},
   "outputs": [
    {
     "data": {
      "text/plain": [
       "\"When we're dealing with missing values in the target variable, its not recommended to use the imputation method to \\ntreat the missing values because the predictive models in ML learns from the target variable. Imputing the target variable\\nwill mean that the predictive model will learn from the data we are deriving and not the actual true data. So, avoid imputation\\nof the target variable as much as possible.(Deletion is generally preferred over imputation in such cases)\""
      ]
     },
     "execution_count": 9,
     "metadata": {},
     "output_type": "execute_result"
    }
   ],
   "source": [
    "'''When we're dealing with missing values in the target variable, its not recommended to use the imputation method to \n",
    "treat the missing values because the predictive models in ML learns from the target variable. Imputing the target variable\n",
    "will mean that the predictive model will learn from the data we are deriving and not the actual true data. So, avoid imputation\n",
    "of the target variable as much as possible.(Deletion is generally preferred over imputation in such cases)'''"
   ]
  },
  {
   "cell_type": "code",
   "execution_count": 12,
   "id": "7ca523e8",
   "metadata": {},
   "outputs": [
    {
     "name": "stdout",
     "output_type": "stream",
     "text": [
      "<class 'pandas.core.frame.DataFrame'>\n",
      "Index: 21609 entries, 0 to 21612\n",
      "Data columns (total 21 columns):\n",
      " #   Column                                     Non-Null Count  Dtype  \n",
      "---  ------                                     --------------  -----  \n",
      " 0   ID                                         21609 non-null  int64  \n",
      " 1   Date House was Sold                        21609 non-null  object \n",
      " 2   Sale Price                                 21609 non-null  float64\n",
      " 3   No of Bedrooms                             21609 non-null  int64  \n",
      " 4   No of Bathrooms                            21605 non-null  float64\n",
      " 5   Flat Area (in Sqft)                        21600 non-null  float64\n",
      " 6   Lot Area (in Sqft)                         21600 non-null  float64\n",
      " 7   No of Floors                               21609 non-null  float64\n",
      " 8   Waterfront View                            21609 non-null  object \n",
      " 9   No of Times Visited                        2124 non-null   object \n",
      " 10  Condition of the House                     21609 non-null  object \n",
      " 11  Overall Grade                              21609 non-null  int64  \n",
      " 12  Area of the House from Basement (in Sqft)  21606 non-null  float64\n",
      " 13  Basement Area (in Sqft)                    21609 non-null  int64  \n",
      " 14  Age of House (in Years)                    21609 non-null  int64  \n",
      " 15  Renovated Year                             21609 non-null  int64  \n",
      " 16  Zipcode                                    21608 non-null  float64\n",
      " 17  Latitude                                   21608 non-null  float64\n",
      " 18  Longitude                                  21608 non-null  float64\n",
      " 19  Living Area after Renovation (in Sqft)     21608 non-null  float64\n",
      " 20  Lot Area after Renovation (in Sqft)        21609 non-null  int64  \n",
      "dtypes: float64(10), int64(7), object(4)\n",
      "memory usage: 3.6+ MB\n"
     ]
    }
   ],
   "source": [
    "#removing missing values of the sale price:\n",
    "Raw_housing_data.dropna(inplace=True, axis=0, subset=['Sale Price'])\n",
    "Raw_housing_data.info()"
   ]
  },
  {
   "cell_type": "code",
   "execution_count": 11,
   "id": "f4e85979",
   "metadata": {},
   "outputs": [
    {
     "data": {
      "image/png": "[encoded data removed]",
      "text/plain": [
       "<Figure size 640x480 with 1 Axes>"
      ]
     },
     "metadata": {},
     "output_type": "display_data"
    }
   ],
   "source": [
    "#plotting histogram:\n",
    "plt.hist(Raw_housing_data['Sale Price'], bins=10, color='green')\n",
    "plt.xlabel(\"Intervals\")\n",
    "plt.ylabel(\"Selling Price\")\n",
    "plt.title(\"Histogram of Selling Price\")\n",
    "plt.show()"
   ]
  },
  {
   "cell_type": "code",
   "execution_count": null,
   "id": "b8447595",
   "metadata": {},
   "outputs": [],
   "source": [
    "#from above histogram we can see that data is skewed towards lower values"
   ]
  }
 ],
 "metadata": {
  "kernelspec": {
   "display_name": "Python 3 (ipykernel)",
   "language": "python",
   "name": "python3"
  },
  "language_info": {
   "codemirror_mode": {
    "name": "ipython",
    "version": 3
   },
   "file_extension": ".py",
   "mimetype": "text/x-python",
   "name": "python",
   "nbconvert_exporter": "python",
   "pygments_lexer": "ipython3",
   "version": "3.11.5"
  }
 },
 "nbformat": 4,
 "nbformat_minor": 5
}
